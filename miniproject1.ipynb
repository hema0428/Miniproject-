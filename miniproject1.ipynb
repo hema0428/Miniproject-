{
 "cells": [
  {
   "cell_type": "markdown",
   "id": "f01311f7-6cf9-49dd-ae0a-0fe6889ffbef",
   "metadata": {},
   "source": [
    "#  TO PREDICT THE SALES USING THE REGRESSION"
   ]
  },
  {
   "cell_type": "markdown",
   "id": "ae66c920-814a-47fb-a8b6-a909804dd447",
   "metadata": {},
   "source": [
    "# DATA VISUALIZATION"
   ]
  },
  {
   "cell_type": "code",
   "execution_count": 1,
   "id": "2c12e308-e586-4aee-9090-d0c8e61d5ac1",
   "metadata": {},
   "outputs": [
    {
     "name": "stdout",
     "output_type": "stream",
     "text": [
      "Requirement already satisfied: pandas in c:\\users\\kdevi\\anaconda3\\lib\\site-packages (2.1.4)\n",
      "Requirement already satisfied: numpy<2,>=1.23.2 in c:\\users\\kdevi\\anaconda3\\lib\\site-packages (from pandas) (1.26.4)\n",
      "Requirement already satisfied: python-dateutil>=2.8.2 in c:\\users\\kdevi\\anaconda3\\lib\\site-packages (from pandas) (2.8.2)\n",
      "Requirement already satisfied: pytz>=2020.1 in c:\\users\\kdevi\\anaconda3\\lib\\site-packages (from pandas) (2023.3.post1)\n",
      "Requirement already satisfied: tzdata>=2022.1 in c:\\users\\kdevi\\anaconda3\\lib\\site-packages (from pandas) (2023.3)\n",
      "Requirement already satisfied: six>=1.5 in c:\\users\\kdevi\\anaconda3\\lib\\site-packages (from python-dateutil>=2.8.2->pandas) (1.16.0)\n",
      "Note: you may need to restart the kernel to use updated packages.\n"
     ]
    }
   ],
   "source": [
    "pip install pandas"
   ]
  },
  {
   "cell_type": "code",
   "execution_count": 1,
   "id": "b9a55119-3bb2-4056-8f39-600f8e02b81f",
   "metadata": {},
   "outputs": [],
   "source": [
    "import pandas as pd"
   ]
  },
  {
   "cell_type": "code",
   "execution_count": 23,
   "id": "346fa60c-cee8-4eac-ae0b-a382c28b8bb5",
   "metadata": {},
   "outputs": [],
   "source": [
    "import matplotlib.pyplot as plt"
   ]
  },
  {
   "cell_type": "code",
   "execution_count": 24,
   "id": "256fbce9-22a0-4d1f-b84d-cc318cd26d98",
   "metadata": {},
   "outputs": [],
   "source": [
    "%matplotlib inline"
   ]
  },
  {
   "cell_type": "code",
   "execution_count": 14,
   "id": "d3b777bb-0ef3-4f21-a02d-6d5c4204c800",
   "metadata": {},
   "outputs": [],
   "source": [
    "mp=pd.read_csv(\"C:\\\\Users\\\\kdevi\\\\Downloads\\\\sales.csv\")"
   ]
  },
  {
   "cell_type": "code",
   "execution_count": 15,
   "id": "896bf001-0df4-411e-bd8c-88b2462adb0e",
   "metadata": {},
   "outputs": [
    {
     "data": {
      "text/html": [
       "<div>\n",
       "<style scoped>\n",
       "    .dataframe tbody tr th:only-of-type {\n",
       "        vertical-align: middle;\n",
       "    }\n",
       "\n",
       "    .dataframe tbody tr th {\n",
       "        vertical-align: top;\n",
       "    }\n",
       "\n",
       "    .dataframe thead th {\n",
       "        text-align: right;\n",
       "    }\n",
       "</style>\n",
       "<table border=\"1\" class=\"dataframe\">\n",
       "  <thead>\n",
       "    <tr style=\"text-align: right;\">\n",
       "      <th></th>\n",
       "      <th>Region</th>\n",
       "      <th>Country</th>\n",
       "      <th>Item_Type</th>\n",
       "      <th>Sales_Channel</th>\n",
       "      <th>Order_Priority</th>\n",
       "      <th>Order_Date</th>\n",
       "      <th>Year</th>\n",
       "      <th>Order_ID</th>\n",
       "      <th>Ship_Date</th>\n",
       "      <th>Units_Sold</th>\n",
       "      <th>Unit_SellingPrice</th>\n",
       "      <th>Unit_MakingCost</th>\n",
       "      <th>unit_per Profit</th>\n",
       "      <th>Total profit</th>\n",
       "    </tr>\n",
       "  </thead>\n",
       "  <tbody>\n",
       "    <tr>\n",
       "      <th>0</th>\n",
       "      <td>Central America</td>\n",
       "      <td>Antigua and Barbuda</td>\n",
       "      <td>Baby Food</td>\n",
       "      <td>Online</td>\n",
       "      <td>M</td>\n",
       "      <td>12/20/2013</td>\n",
       "      <td>2013</td>\n",
       "      <td>957081544</td>\n",
       "      <td>11/1/2014</td>\n",
       "      <td>552</td>\n",
       "      <td>255.28</td>\n",
       "      <td>159.42</td>\n",
       "      <td>95.86</td>\n",
       "      <td>52914.72</td>\n",
       "    </tr>\n",
       "    <tr>\n",
       "      <th>1</th>\n",
       "      <td>Central America</td>\n",
       "      <td>Panama</td>\n",
       "      <td>Snacks</td>\n",
       "      <td>Offline</td>\n",
       "      <td>C</td>\n",
       "      <td>Friday, May 7, 2010</td>\n",
       "      <td>2010</td>\n",
       "      <td>301644504</td>\n",
       "      <td>7/26/2010</td>\n",
       "      <td>2167</td>\n",
       "      <td>152.58</td>\n",
       "      <td>97.44</td>\n",
       "      <td>55.14</td>\n",
       "      <td>119488.38</td>\n",
       "    </tr>\n",
       "    <tr>\n",
       "      <th>2</th>\n",
       "      <td>Europe</td>\n",
       "      <td>Czech Republic</td>\n",
       "      <td>Beverages</td>\n",
       "      <td>Offline</td>\n",
       "      <td>C</td>\n",
       "      <td>Friday, December 9, 2011</td>\n",
       "      <td>2011</td>\n",
       "      <td>478051030</td>\n",
       "      <td>9/29/2011</td>\n",
       "      <td>4778</td>\n",
       "      <td>47.45</td>\n",
       "      <td>31.79</td>\n",
       "      <td>15.66</td>\n",
       "      <td>74823.48</td>\n",
       "    </tr>\n",
       "    <tr>\n",
       "      <th>3</th>\n",
       "      <td>Asia</td>\n",
       "      <td>North Korea</td>\n",
       "      <td>Cereal</td>\n",
       "      <td>Offline</td>\n",
       "      <td>L</td>\n",
       "      <td>5/13/2010</td>\n",
       "      <td>2010</td>\n",
       "      <td>892599952</td>\n",
       "      <td>6/15/2010</td>\n",
       "      <td>9016</td>\n",
       "      <td>205.70</td>\n",
       "      <td>117.11</td>\n",
       "      <td>88.59</td>\n",
       "      <td>798727.44</td>\n",
       "    </tr>\n",
       "    <tr>\n",
       "      <th>4</th>\n",
       "      <td>Asia</td>\n",
       "      <td>Sri Lanka</td>\n",
       "      <td>Snacks</td>\n",
       "      <td>Offline</td>\n",
       "      <td>C</td>\n",
       "      <td>7/20/2015</td>\n",
       "      <td>2015</td>\n",
       "      <td>571902596</td>\n",
       "      <td>7/27/2015</td>\n",
       "      <td>7542</td>\n",
       "      <td>152.58</td>\n",
       "      <td>97.44</td>\n",
       "      <td>55.14</td>\n",
       "      <td>415865.88</td>\n",
       "    </tr>\n",
       "    <tr>\n",
       "      <th>...</th>\n",
       "      <td>...</td>\n",
       "      <td>...</td>\n",
       "      <td>...</td>\n",
       "      <td>...</td>\n",
       "      <td>...</td>\n",
       "      <td>...</td>\n",
       "      <td>...</td>\n",
       "      <td>...</td>\n",
       "      <td>...</td>\n",
       "      <td>...</td>\n",
       "      <td>...</td>\n",
       "      <td>...</td>\n",
       "      <td>...</td>\n",
       "      <td>...</td>\n",
       "    </tr>\n",
       "    <tr>\n",
       "      <th>4995</th>\n",
       "      <td>Australia/Oceania</td>\n",
       "      <td>New Zealand</td>\n",
       "      <td>Vegetables</td>\n",
       "      <td>Offline</td>\n",
       "      <td>C</td>\n",
       "      <td>Wednesday, March 4, 2015</td>\n",
       "      <td>2015</td>\n",
       "      <td>217984473</td>\n",
       "      <td>4/20/2015</td>\n",
       "      <td>5305</td>\n",
       "      <td>668.27</td>\n",
       "      <td>502.54</td>\n",
       "      <td>165.73</td>\n",
       "      <td>879197.65</td>\n",
       "    </tr>\n",
       "    <tr>\n",
       "      <th>4996</th>\n",
       "      <td>Middle East/North Africa</td>\n",
       "      <td>Azerbaijan</td>\n",
       "      <td>Snacks</td>\n",
       "      <td>Offline</td>\n",
       "      <td>L</td>\n",
       "      <td>8/17/2014</td>\n",
       "      <td>2014</td>\n",
       "      <td>169748055</td>\n",
       "      <td>2/10/2014</td>\n",
       "      <td>1077</td>\n",
       "      <td>109.28</td>\n",
       "      <td>35.84</td>\n",
       "      <td>73.44</td>\n",
       "      <td>79094.88</td>\n",
       "    </tr>\n",
       "    <tr>\n",
       "      <th>4997</th>\n",
       "      <td>Asia</td>\n",
       "      <td>Myanmar</td>\n",
       "      <td>Baby Food</td>\n",
       "      <td>Offline</td>\n",
       "      <td>H</td>\n",
       "      <td>11/23/2016</td>\n",
       "      <td>2016</td>\n",
       "      <td>123256724</td>\n",
       "      <td>10/12/2016</td>\n",
       "      <td>5204</td>\n",
       "      <td>255.28</td>\n",
       "      <td>159.42</td>\n",
       "      <td>95.86</td>\n",
       "      <td>498855.44</td>\n",
       "    </tr>\n",
       "    <tr>\n",
       "      <th>4998</th>\n",
       "      <td>Europe</td>\n",
       "      <td>Finland</td>\n",
       "      <td>Clothes</td>\n",
       "      <td>Online</td>\n",
       "      <td>L</td>\n",
       "      <td>4/22/2014</td>\n",
       "      <td>2014</td>\n",
       "      <td>13421235</td>\n",
       "      <td>11/5/2014</td>\n",
       "      <td>9410</td>\n",
       "      <td>109.28</td>\n",
       "      <td>35.84</td>\n",
       "      <td>73.44</td>\n",
       "      <td>691070.40</td>\n",
       "    </tr>\n",
       "    <tr>\n",
       "      <th>4999</th>\n",
       "      <td>Sub-Saharan Africa</td>\n",
       "      <td>Tanzania</td>\n",
       "      <td>Vegetables</td>\n",
       "      <td>Online</td>\n",
       "      <td>L</td>\n",
       "      <td>Sunday, August 7, 2011</td>\n",
       "      <td>2011</td>\n",
       "      <td>124535346</td>\n",
       "      <td>7/8/2011</td>\n",
       "      <td>5000</td>\n",
       "      <td>154.06</td>\n",
       "      <td>90.93</td>\n",
       "      <td>63.13</td>\n",
       "      <td>315650.00</td>\n",
       "    </tr>\n",
       "  </tbody>\n",
       "</table>\n",
       "<p>5000 rows × 14 columns</p>\n",
       "</div>"
      ],
      "text/plain": [
       "                        Region               Country   Item_Type  \\\n",
       "0             Central America   Antigua and Barbuda    Baby Food   \n",
       "1             Central America                 Panama      Snacks   \n",
       "2                       Europe        Czech Republic   Beverages   \n",
       "3                         Asia           North Korea      Cereal   \n",
       "4                         Asia             Sri Lanka      Snacks   \n",
       "...                        ...                   ...         ...   \n",
       "4995         Australia/Oceania           New Zealand  Vegetables   \n",
       "4996  Middle East/North Africa            Azerbaijan      Snacks   \n",
       "4997                      Asia               Myanmar   Baby Food   \n",
       "4998                    Europe               Finland     Clothes   \n",
       "4999        Sub-Saharan Africa              Tanzania  Vegetables   \n",
       "\n",
       "     Sales_Channel Order_Priority                Order_Date  Year   Order_ID  \\\n",
       "0           Online              M                12/20/2013  2013  957081544   \n",
       "1          Offline              C       Friday, May 7, 2010  2010  301644504   \n",
       "2          Offline              C  Friday, December 9, 2011  2011  478051030   \n",
       "3          Offline              L                 5/13/2010  2010  892599952   \n",
       "4          Offline              C                 7/20/2015  2015  571902596   \n",
       "...            ...            ...                       ...   ...        ...   \n",
       "4995       Offline              C  Wednesday, March 4, 2015  2015  217984473   \n",
       "4996       Offline              L                 8/17/2014  2014  169748055   \n",
       "4997       Offline              H                11/23/2016  2016  123256724   \n",
       "4998        Online              L                 4/22/2014  2014   13421235   \n",
       "4999        Online              L    Sunday, August 7, 2011  2011  124535346   \n",
       "\n",
       "       Ship_Date  Units_Sold  Unit_SellingPrice  Unit_MakingCost  \\\n",
       "0      11/1/2014         552             255.28           159.42   \n",
       "1      7/26/2010        2167             152.58            97.44   \n",
       "2      9/29/2011        4778              47.45            31.79   \n",
       "3      6/15/2010        9016             205.70           117.11   \n",
       "4      7/27/2015        7542             152.58            97.44   \n",
       "...          ...         ...                ...              ...   \n",
       "4995   4/20/2015        5305             668.27           502.54   \n",
       "4996   2/10/2014        1077             109.28            35.84   \n",
       "4997  10/12/2016        5204             255.28           159.42   \n",
       "4998   11/5/2014        9410             109.28            35.84   \n",
       "4999    7/8/2011        5000             154.06            90.93   \n",
       "\n",
       "      unit_per Profit  Total profit  \n",
       "0               95.86      52914.72  \n",
       "1               55.14     119488.38  \n",
       "2               15.66      74823.48  \n",
       "3               88.59     798727.44  \n",
       "4               55.14     415865.88  \n",
       "...               ...           ...  \n",
       "4995           165.73     879197.65  \n",
       "4996            73.44      79094.88  \n",
       "4997            95.86     498855.44  \n",
       "4998            73.44     691070.40  \n",
       "4999            63.13     315650.00  \n",
       "\n",
       "[5000 rows x 14 columns]"
      ]
     },
     "execution_count": 15,
     "metadata": {},
     "output_type": "execute_result"
    }
   ],
   "source": [
    "mp"
   ]
  },
  {
   "cell_type": "markdown",
   "id": "d1b4b29b-a2f0-4493-a487-f005fc399f1c",
   "metadata": {},
   "source": [
    "# BAR CHART"
   ]
  },
  {
   "cell_type": "code",
   "execution_count": 31,
   "id": "f81a236f-cf39-44ae-9317-31f28b029cd9",
   "metadata": {},
   "outputs": [],
   "source": [
    "ITEM_TYPE=['Baby Food','Snacks','Vegetable','Clothes','Cereal']\n",
    "UNIT_SOLD=[552,2167,5305,9410,9016]"
   ]
  },
  {
   "cell_type": "code",
   "execution_count": 32,
   "id": "a1406a6a-0884-4ca8-b540-0ff9ab2bd6e2",
   "metadata": {},
   "outputs": [
    {
     "data": {
      "text/plain": [
       "<BarContainer object of 5 artists>"
      ]
     },
     "execution_count": 32,
     "metadata": {},
     "output_type": "execute_result"
    },
    {
     "data": {
      "image/png": "[encoded data removed]",
      "text/plain": [
       "<Figure size 640x480 with 1 Axes>"
      ]
     },
     "metadata": {},
     "output_type": "display_data"
    }
   ],
   "source": [
    "plt.bar(ITEM_TYPE,TOTAL_PROFIT,color=\"yellow\",edgecolor=\"green\")"
   ]
  },
  {
   "cell_type": "markdown",
   "id": "8b8e8e86-14ff-4cc6-a044-79994499eb92",
   "metadata": {},
   "source": [
    "# SCATTER PLOT"
   ]
  },
  {
   "cell_type": "code",
   "execution_count": 34,
   "id": "33594b2c-7b24-4696-933e-19de13b0db73",
   "metadata": {},
   "outputs": [
    {
     "data": {
      "text/plain": [
       "<matplotlib.collections.PathCollection at 0x22ecf6de6d0>"
      ]
     },
     "execution_count": 34,
     "metadata": {},
     "output_type": "execute_result"
    },
    {
     "data": {
      "image/png": "[encoded data removed]",
      "text/plain": [
       "<Figure size 640x480 with 1 Axes>"
      ]
     },
     "metadata": {},
     "output_type": "display_data"
    }
   ],
   "source": [
    "plt.scatter(ITEM_TYPE,UNIT_SOLD,color=\"red\")"
   ]
  },
  {
   "cell_type": "markdown",
   "id": "09ed524d-df2d-4b37-ab7d-7f2842ad5a67",
   "metadata": {},
   "source": [
    "# PIE CHART"
   ]
  },
  {
   "cell_type": "code",
   "execution_count": 38,
   "id": "cb5371e9-1cf5-4a79-8f02-c1dfacb2d871",
   "metadata": {},
   "outputs": [
    {
     "data": {
      "text/plain": [
       "([<matplotlib.patches.Wedge at 0x22ecf791410>,\n",
       "  <matplotlib.patches.Wedge at 0x22ecb6aa090>,\n",
       "  <matplotlib.patches.Wedge at 0x22ecef71f10>,\n",
       "  <matplotlib.patches.Wedge at 0x22ecef70b50>,\n",
       "  <matplotlib.patches.Wedge at 0x22ecef58b90>],\n",
       " [Text(1.0976366192243183, 0.07206838514778229, '552'),\n",
       "  Text(1.018021019722474, 0.4166931765738604, '2167'),\n",
       "  Text(0.31960225558769384, 1.0525466252015911, '5305'),\n",
       "  Text(-1.0923733787249013, 0.12930739133221927, '9410'),\n",
       "  Text(0.5272937211569143, -0.9653814435903015, '9016')])"
      ]
     },
     "execution_count": 38,
     "metadata": {},
     "output_type": "execute_result"
    },
    {
     "data": {
      "image/png": "[encoded data removed]",
      "text/plain": [
       "<Figure size 640x480 with 1 Axes>"
      ]
     },
     "metadata": {},
     "output_type": "display_data"
    }
   ],
   "source": [
    "plt.pie(UNIT_SOLD, labels=UNIT_SOLD)"
   ]
  },
  {
   "cell_type": "code",
   "execution_count": null,
   "id": "9b6d1e81-ad16-4ee8-86b5-5e505567e1a2",
   "metadata": {},
   "outputs": [],
   "source": []
  }
 ],
 "metadata": {
  "kernelspec": {
   "display_name": "Python 3 (ipykernel)",
   "language": "python",
   "name": "python3"
  },
  "language_info": {
   "codemirror_mode": {
    "name": "ipython",
    "version": 3
   },
   "file_extension": ".py",
   "mimetype": "text/x-python",
   "name": "python",
   "nbconvert_exporter": "python",
   "pygments_lexer": "ipython3",
   "version": "3.11.7"
  }
 },
 "nbformat": 4,
 "nbformat_minor": 5
}
